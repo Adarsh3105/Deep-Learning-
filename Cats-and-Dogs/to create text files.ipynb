{
 "cells": [
  {
   "cell_type": "code",
   "execution_count": 1,
   "metadata": {
    "collapsed": true
   },
   "outputs": [],
   "source": [
    "import sys\n",
    "import glob\n",
    "import os\n",
    "import os.path\n",
    "import random"
   ]
  },
  {
   "cell_type": "code",
   "execution_count": 2,
   "metadata": {
    "collapsed": true
   },
   "outputs": [],
   "source": [
    "TRAIN_TEXT_FILE = '/Users/Enkay/Documents/Viky/python/img-classification/train_shuffle.txt'\n",
    "\n",
    "IMAGE_FOLDER = '/Users/Enkay/Documents/Viky/python/img-classification/train/'\n",
    "\n"
   ]
  },
  {
   "cell_type": "code",
   "execution_count": 4,
   "metadata": {
    "collapsed": false
   },
   "outputs": [],
   "source": [
    "fr = open(TRAIN_TEXT_FILE, 'w')\n",
    "\n",
    "filenames_image = os.listdir(IMAGE_FOLDER)\n",
    "random.shuffle(filenames_image)\n",
    "for filename in filenames_image:\n",
    "    if filename[0:3] == 'cat': # Class '0' for cat \n",
    "        fr.write(IMAGE_FOLDER + '/'+ filename + ' 0\\n')\n",
    "    elif filename[0:3] == 'dog': # c\n",
    "        fr.write(IMAGE_FOLDER + '/'+ filename + ' 1\\n')\n",
    "fr.close()\n"
   ]
  }
 ],
 "metadata": {
  "anaconda-cloud": {},
  "kernelspec": {
   "display_name": "Python 2",
   "language": "python",
   "name": "python2"
  },
  "language_info": {
   "codemirror_mode": {
    "name": "ipython",
    "version": 2
   },
   "file_extension": ".py",
   "mimetype": "text/x-python",
   "name": "python",
   "nbconvert_exporter": "python",
   "pygments_lexer": "ipython2",
   "version": "2.7.12"
  }
 },
 "nbformat": 4,
 "nbformat_minor": 0
}
